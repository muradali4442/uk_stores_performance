{
 "cells": [
  {
   "cell_type": "markdown",
   "id": "b8086b6d",
   "metadata": {},
   "source": [
    "# Importing required packages"
   ]
  },
  {
   "cell_type": "code",
   "execution_count": 1,
   "id": "022c9f9e",
   "metadata": {},
   "outputs": [],
   "source": [
    "import numpy as np\n",
    "import pandas as pd"
   ]
  },
  {
   "cell_type": "code",
   "execution_count": 2,
   "id": "47e3e1ea",
   "metadata": {},
   "outputs": [],
   "source": [
    "from sklearn.model_selection import train_test_split\n",
    "from sklearn.metrics import confusion_matrix"
   ]
  },
  {
   "cell_type": "code",
   "execution_count": 3,
   "id": "01d9f8ba",
   "metadata": {},
   "outputs": [],
   "source": [
    "from tensorflow.keras.optimizers import Adam, SGD\n",
    "from tensorflow.keras.models import Sequential\n",
    "from tensorflow.keras.layers import Dense, LSTM, Dropout, Activation, Flatten"
   ]
  },
  {
   "cell_type": "markdown",
   "id": "0a1e3d82",
   "metadata": {},
   "source": [
    "# Importing dataset"
   ]
  },
  {
   "cell_type": "code",
   "execution_count": 4,
   "id": "67b80977",
   "metadata": {},
   "outputs": [],
   "source": [
    "dataset_path = \"data/preprocessed.csv\""
   ]
  },
  {
   "cell_type": "code",
   "execution_count": 5,
   "id": "9dcc97cc",
   "metadata": {},
   "outputs": [],
   "source": [
    "dataset = pd.read_csv(dataset_path, index_col = False)"
   ]
  },
  {
   "cell_type": "code",
   "execution_count": 6,
   "id": "7c53b6d6",
   "metadata": {},
   "outputs": [
    {
     "data": {
      "text/plain": [
       "Index(['Staff', 'Floor Space', 'Window', 'Car park', 'Demographic score',\n",
       "       '40min population', '30 min population', '20 min population',\n",
       "       '10 min population', 'Store age', 'Clearance space',\n",
       "       'Competition number', 'Competition score', 'location0', 'location1',\n",
       "       'location2', 'performance'],\n",
       "      dtype='object')"
      ]
     },
     "execution_count": 6,
     "metadata": {},
     "output_type": "execute_result"
    }
   ],
   "source": [
    "dataset.columns"
   ]
  },
  {
   "cell_type": "code",
   "execution_count": 7,
   "id": "44ed0971",
   "metadata": {},
   "outputs": [],
   "source": [
    "data = dataset.iloc[:, :].values"
   ]
  },
  {
   "cell_type": "markdown",
   "id": "cc02edba",
   "metadata": {},
   "source": [
    "# Extracting dependant and independant variables"
   ]
  },
  {
   "cell_type": "code",
   "execution_count": 8,
   "id": "5625e35b",
   "metadata": {},
   "outputs": [],
   "source": [
    "y = data[:, -1]"
   ]
  },
  {
   "cell_type": "code",
   "execution_count": 9,
   "id": "f4f5d8d3",
   "metadata": {},
   "outputs": [],
   "source": [
    "X = data[:, :-1]"
   ]
  },
  {
   "cell_type": "code",
   "execution_count": 10,
   "id": "e6b848dc",
   "metadata": {},
   "outputs": [
    {
     "data": {
      "text/plain": [
       "(134,)"
      ]
     },
     "execution_count": 10,
     "metadata": {},
     "output_type": "execute_result"
    }
   ],
   "source": [
    "y.shape"
   ]
  },
  {
   "cell_type": "code",
   "execution_count": 11,
   "id": "64f02a9c",
   "metadata": {},
   "outputs": [
    {
     "data": {
      "text/plain": [
       "(134, 16)"
      ]
     },
     "execution_count": 11,
     "metadata": {},
     "output_type": "execute_result"
    }
   ],
   "source": [
    "X.shape"
   ]
  },
  {
   "cell_type": "markdown",
   "id": "a85a3e9d",
   "metadata": {},
   "source": [
    "# Performing train test split"
   ]
  },
  {
   "cell_type": "code",
   "execution_count": 12,
   "id": "a6226595",
   "metadata": {},
   "outputs": [],
   "source": [
    "X_train, X_test, y_train, y_test = train_test_split(X, y, test_size=0.2, random_state=42)"
   ]
  },
  {
   "cell_type": "code",
   "execution_count": 13,
   "id": "c03192bb",
   "metadata": {},
   "outputs": [],
   "source": [
    "optimizer = SGD(learning_rate=0.01)"
   ]
  },
  {
   "cell_type": "code",
   "execution_count": 14,
   "id": "760ae8ac",
   "metadata": {},
   "outputs": [],
   "source": [
    "model = Sequential()\n",
    "\n",
    "model.add(Dense(16, input_shape=(X_train.shape[1],), activation=\"tanh\"))\n",
    "model.add(Dropout(0.1))\n",
    "\n",
    "model.add(Dense(32, input_shape=(X_train.shape[1],), activation=\"tanh\"))\n",
    "model.add(Dropout(0.2))\n",
    "\n",
    "model.add(Dense(64, activation=\"relu\"))\n",
    "model.add(Dropout(0.3))\n",
    "\n",
    "model.add(Dense(128, activation=\"relu\"))\n",
    "model.add(Dropout(0.5))\n",
    "\n",
    "model.add(Dense(1, activation=\"sigmoid\"))\n",
    "\n",
    "model.compile(optimizer = optimizer,loss=\"binary_crossentropy\",metrics=[\"accuracy\"])"
   ]
  },
  {
   "cell_type": "code",
   "execution_count": 15,
   "id": "36c56eac",
   "metadata": {},
   "outputs": [
    {
     "name": "stdout",
     "output_type": "stream",
     "text": [
      "Model: \"sequential\"\n",
      "_________________________________________________________________\n",
      " Layer (type)                Output Shape              Param #   \n",
      "=================================================================\n",
      " dense (Dense)               (None, 16)                272       \n",
      "                                                                 \n",
      " dropout (Dropout)           (None, 16)                0         \n",
      "                                                                 \n",
      " dense_1 (Dense)             (None, 32)                544       \n",
      "                                                                 \n",
      " dropout_1 (Dropout)         (None, 32)                0         \n",
      "                                                                 \n",
      " dense_2 (Dense)             (None, 64)                2112      \n",
      "                                                                 \n",
      " dropout_2 (Dropout)         (None, 64)                0         \n",
      "                                                                 \n",
      " dense_3 (Dense)             (None, 128)               8320      \n",
      "                                                                 \n",
      " dropout_3 (Dropout)         (None, 128)               0         \n",
      "                                                                 \n",
      " dense_4 (Dense)             (None, 1)                 129       \n",
      "                                                                 \n",
      "=================================================================\n",
      "Total params: 11,377\n",
      "Trainable params: 11,377\n",
      "Non-trainable params: 0\n",
      "_________________________________________________________________\n"
     ]
    }
   ],
   "source": [
    "model.summary()"
   ]
  },
  {
   "cell_type": "code",
   "execution_count": 18,
   "id": "5682a2a2",
   "metadata": {},
   "outputs": [
    {
     "name": "stdout",
     "output_type": "stream",
     "text": [
      "Epoch 1/200\n",
      "2/2 [==============================] - 0s 62ms/step - loss: 0.6891 - accuracy: 0.5750 - val_loss: 0.7072 - val_accuracy: 0.3571\n",
      "Epoch 2/200\n",
      "2/2 [==============================] - 0s 30ms/step - loss: 0.6885 - accuracy: 0.5417 - val_loss: 0.7075 - val_accuracy: 0.2857\n",
      "Epoch 3/200\n",
      "2/2 [==============================] - 0s 36ms/step - loss: 0.6978 - accuracy: 0.5333 - val_loss: 0.7078 - val_accuracy: 0.2857\n",
      "Epoch 4/200\n",
      "2/2 [==============================] - 0s 35ms/step - loss: 0.7067 - accuracy: 0.5167 - val_loss: 0.7082 - val_accuracy: 0.2857\n",
      "Epoch 5/200\n",
      "2/2 [==============================] - 0s 32ms/step - loss: 0.7028 - accuracy: 0.5333 - val_loss: 0.7085 - val_accuracy: 0.3571\n",
      "Epoch 6/200\n",
      "2/2 [==============================] - 0s 35ms/step - loss: 0.6777 - accuracy: 0.5833 - val_loss: 0.7086 - val_accuracy: 0.3571\n",
      "Epoch 7/200\n",
      "2/2 [==============================] - 0s 32ms/step - loss: 0.7002 - accuracy: 0.5250 - val_loss: 0.7089 - val_accuracy: 0.4286\n",
      "Epoch 8/200\n",
      "2/2 [==============================] - 0s 36ms/step - loss: 0.6953 - accuracy: 0.5083 - val_loss: 0.7093 - val_accuracy: 0.4286\n",
      "Epoch 9/200\n",
      "2/2 [==============================] - 0s 36ms/step - loss: 0.7052 - accuracy: 0.4667 - val_loss: 0.7097 - val_accuracy: 0.5000\n",
      "Epoch 10/200\n",
      "2/2 [==============================] - 0s 34ms/step - loss: 0.6887 - accuracy: 0.5250 - val_loss: 0.7100 - val_accuracy: 0.5000\n",
      "Epoch 11/200\n",
      "2/2 [==============================] - 0s 36ms/step - loss: 0.6809 - accuracy: 0.5667 - val_loss: 0.7106 - val_accuracy: 0.5000\n",
      "Epoch 12/200\n",
      "2/2 [==============================] - 0s 33ms/step - loss: 0.6754 - accuracy: 0.5500 - val_loss: 0.7109 - val_accuracy: 0.5000\n",
      "Epoch 13/200\n",
      "2/2 [==============================] - 0s 35ms/step - loss: 0.6896 - accuracy: 0.5500 - val_loss: 0.7112 - val_accuracy: 0.5000\n",
      "Epoch 14/200\n",
      "2/2 [==============================] - 0s 33ms/step - loss: 0.6911 - accuracy: 0.5833 - val_loss: 0.7116 - val_accuracy: 0.5000\n",
      "Epoch 15/200\n",
      "2/2 [==============================] - 0s 35ms/step - loss: 0.6947 - accuracy: 0.4750 - val_loss: 0.7117 - val_accuracy: 0.5000\n",
      "Epoch 16/200\n",
      "2/2 [==============================] - 0s 35ms/step - loss: 0.6719 - accuracy: 0.5917 - val_loss: 0.7120 - val_accuracy: 0.5000\n",
      "Epoch 17/200\n",
      "2/2 [==============================] - 0s 32ms/step - loss: 0.6812 - accuracy: 0.5667 - val_loss: 0.7124 - val_accuracy: 0.5000\n",
      "Epoch 18/200\n",
      "2/2 [==============================] - 0s 36ms/step - loss: 0.6870 - accuracy: 0.5833 - val_loss: 0.7125 - val_accuracy: 0.5000\n",
      "Epoch 19/200\n",
      "2/2 [==============================] - 0s 41ms/step - loss: 0.6737 - accuracy: 0.6000 - val_loss: 0.7127 - val_accuracy: 0.5000\n",
      "Epoch 20/200\n",
      "2/2 [==============================] - 0s 37ms/step - loss: 0.6896 - accuracy: 0.5167 - val_loss: 0.7131 - val_accuracy: 0.5000\n",
      "Epoch 21/200\n",
      "2/2 [==============================] - 0s 39ms/step - loss: 0.6790 - accuracy: 0.5583 - val_loss: 0.7135 - val_accuracy: 0.5000\n",
      "Epoch 22/200\n",
      "2/2 [==============================] - 0s 37ms/step - loss: 0.6966 - accuracy: 0.5083 - val_loss: 0.7135 - val_accuracy: 0.5000\n",
      "Epoch 23/200\n",
      "2/2 [==============================] - 0s 32ms/step - loss: 0.6855 - accuracy: 0.5583 - val_loss: 0.7135 - val_accuracy: 0.5000\n",
      "Epoch 24/200\n",
      "2/2 [==============================] - 0s 33ms/step - loss: 0.6861 - accuracy: 0.5167 - val_loss: 0.7135 - val_accuracy: 0.5000\n",
      "Epoch 25/200\n",
      "2/2 [==============================] - 0s 33ms/step - loss: 0.6946 - accuracy: 0.5083 - val_loss: 0.7139 - val_accuracy: 0.5000\n",
      "Epoch 26/200\n",
      "2/2 [==============================] - 0s 37ms/step - loss: 0.6788 - accuracy: 0.5667 - val_loss: 0.7141 - val_accuracy: 0.5000\n",
      "Epoch 27/200\n",
      "2/2 [==============================] - 0s 34ms/step - loss: 0.7019 - accuracy: 0.4833 - val_loss: 0.7144 - val_accuracy: 0.5000\n",
      "Epoch 28/200\n",
      "2/2 [==============================] - 0s 31ms/step - loss: 0.6948 - accuracy: 0.4750 - val_loss: 0.7145 - val_accuracy: 0.5000\n",
      "Epoch 29/200\n",
      "2/2 [==============================] - 0s 33ms/step - loss: 0.6844 - accuracy: 0.5583 - val_loss: 0.7148 - val_accuracy: 0.5000\n",
      "Epoch 30/200\n",
      "2/2 [==============================] - 0s 39ms/step - loss: 0.6940 - accuracy: 0.5333 - val_loss: 0.7149 - val_accuracy: 0.4286\n",
      "Epoch 31/200\n",
      "2/2 [==============================] - 0s 32ms/step - loss: 0.7006 - accuracy: 0.4833 - val_loss: 0.7152 - val_accuracy: 0.4286\n",
      "Epoch 32/200\n",
      "2/2 [==============================] - 0s 39ms/step - loss: 0.6717 - accuracy: 0.5750 - val_loss: 0.7154 - val_accuracy: 0.4286\n",
      "Epoch 33/200\n",
      "2/2 [==============================] - 0s 33ms/step - loss: 0.6889 - accuracy: 0.5500 - val_loss: 0.7155 - val_accuracy: 0.4286\n",
      "Epoch 34/200\n",
      "2/2 [==============================] - 0s 37ms/step - loss: 0.7048 - accuracy: 0.4750 - val_loss: 0.7156 - val_accuracy: 0.4286\n",
      "Epoch 35/200\n",
      "2/2 [==============================] - 0s 31ms/step - loss: 0.7010 - accuracy: 0.5417 - val_loss: 0.7159 - val_accuracy: 0.4286\n",
      "Epoch 36/200\n",
      "2/2 [==============================] - 0s 36ms/step - loss: 0.6927 - accuracy: 0.5083 - val_loss: 0.7161 - val_accuracy: 0.4286\n",
      "Epoch 37/200\n",
      "2/2 [==============================] - 0s 37ms/step - loss: 0.6866 - accuracy: 0.5417 - val_loss: 0.7161 - val_accuracy: 0.4286\n",
      "Epoch 38/200\n",
      "2/2 [==============================] - 0s 32ms/step - loss: 0.6690 - accuracy: 0.6250 - val_loss: 0.7163 - val_accuracy: 0.4286\n",
      "Epoch 39/200\n",
      "2/2 [==============================] - 0s 31ms/step - loss: 0.6989 - accuracy: 0.4500 - val_loss: 0.7165 - val_accuracy: 0.4286\n",
      "Epoch 40/200\n",
      "2/2 [==============================] - 0s 31ms/step - loss: 0.6968 - accuracy: 0.5333 - val_loss: 0.7171 - val_accuracy: 0.4286\n",
      "Epoch 41/200\n",
      "2/2 [==============================] - 0s 30ms/step - loss: 0.7116 - accuracy: 0.4417 - val_loss: 0.7172 - val_accuracy: 0.4286\n",
      "Epoch 42/200\n",
      "2/2 [==============================] - 0s 30ms/step - loss: 0.6821 - accuracy: 0.5417 - val_loss: 0.7175 - val_accuracy: 0.4286\n",
      "Epoch 43/200\n",
      "2/2 [==============================] - 0s 32ms/step - loss: 0.7131 - accuracy: 0.4417 - val_loss: 0.7177 - val_accuracy: 0.4286\n",
      "Epoch 44/200\n",
      "2/2 [==============================] - 0s 30ms/step - loss: 0.6864 - accuracy: 0.5417 - val_loss: 0.7178 - val_accuracy: 0.4286\n",
      "Epoch 45/200\n",
      "2/2 [==============================] - 0s 29ms/step - loss: 0.6777 - accuracy: 0.5917 - val_loss: 0.7179 - val_accuracy: 0.4286\n",
      "Epoch 46/200\n",
      "2/2 [==============================] - 0s 30ms/step - loss: 0.6707 - accuracy: 0.5917 - val_loss: 0.7181 - val_accuracy: 0.4286\n",
      "Epoch 47/200\n",
      "2/2 [==============================] - 0s 32ms/step - loss: 0.6827 - accuracy: 0.5250 - val_loss: 0.7183 - val_accuracy: 0.4286\n",
      "Epoch 48/200\n",
      "2/2 [==============================] - 0s 32ms/step - loss: 0.6791 - accuracy: 0.5500 - val_loss: 0.7185 - val_accuracy: 0.4286\n",
      "Epoch 49/200\n",
      "2/2 [==============================] - 0s 28ms/step - loss: 0.6930 - accuracy: 0.5083 - val_loss: 0.7185 - val_accuracy: 0.4286\n",
      "Epoch 50/200\n",
      "2/2 [==============================] - 0s 29ms/step - loss: 0.7027 - accuracy: 0.4917 - val_loss: 0.7186 - val_accuracy: 0.4286\n",
      "Epoch 51/200\n",
      "2/2 [==============================] - 0s 32ms/step - loss: 0.6854 - accuracy: 0.5250 - val_loss: 0.7189 - val_accuracy: 0.4286\n",
      "Epoch 52/200\n",
      "2/2 [==============================] - 0s 30ms/step - loss: 0.6986 - accuracy: 0.5167 - val_loss: 0.7188 - val_accuracy: 0.4286\n",
      "Epoch 53/200\n",
      "2/2 [==============================] - 0s 28ms/step - loss: 0.6844 - accuracy: 0.5833 - val_loss: 0.7189 - val_accuracy: 0.4286\n",
      "Epoch 54/200\n",
      "2/2 [==============================] - 0s 28ms/step - loss: 0.7054 - accuracy: 0.4667 - val_loss: 0.7192 - val_accuracy: 0.4286\n",
      "Epoch 55/200\n",
      "2/2 [==============================] - 0s 31ms/step - loss: 0.6873 - accuracy: 0.5167 - val_loss: 0.7193 - val_accuracy: 0.4286\n",
      "Epoch 56/200\n",
      "2/2 [==============================] - 0s 29ms/step - loss: 0.6790 - accuracy: 0.5750 - val_loss: 0.7196 - val_accuracy: 0.4286\n",
      "Epoch 57/200\n",
      "2/2 [==============================] - 0s 29ms/step - loss: 0.6826 - accuracy: 0.5500 - val_loss: 0.7197 - val_accuracy: 0.4286\n",
      "Epoch 58/200\n",
      "2/2 [==============================] - 0s 33ms/step - loss: 0.6836 - accuracy: 0.5667 - val_loss: 0.7200 - val_accuracy: 0.4286\n",
      "Epoch 59/200\n"
     ]
    },
    {
     "name": "stdout",
     "output_type": "stream",
     "text": [
      "2/2 [==============================] - 0s 28ms/step - loss: 0.6806 - accuracy: 0.5167 - val_loss: 0.7201 - val_accuracy: 0.4286\n",
      "Epoch 60/200\n",
      "2/2 [==============================] - 0s 29ms/step - loss: 0.6809 - accuracy: 0.4917 - val_loss: 0.7204 - val_accuracy: 0.4286\n",
      "Epoch 61/200\n",
      "2/2 [==============================] - 0s 29ms/step - loss: 0.6750 - accuracy: 0.5917 - val_loss: 0.7205 - val_accuracy: 0.4286\n",
      "Epoch 62/200\n",
      "2/2 [==============================] - 0s 29ms/step - loss: 0.6567 - accuracy: 0.6417 - val_loss: 0.7207 - val_accuracy: 0.4286\n",
      "Epoch 63/200\n",
      "2/2 [==============================] - 0s 28ms/step - loss: 0.6878 - accuracy: 0.5333 - val_loss: 0.7206 - val_accuracy: 0.4286\n",
      "Epoch 64/200\n",
      "2/2 [==============================] - 0s 29ms/step - loss: 0.6643 - accuracy: 0.6000 - val_loss: 0.7208 - val_accuracy: 0.4286\n",
      "Epoch 65/200\n",
      "2/2 [==============================] - 0s 31ms/step - loss: 0.6879 - accuracy: 0.5417 - val_loss: 0.7209 - val_accuracy: 0.4286\n",
      "Epoch 66/200\n",
      "2/2 [==============================] - 0s 29ms/step - loss: 0.6809 - accuracy: 0.5583 - val_loss: 0.7210 - val_accuracy: 0.4286\n",
      "Epoch 67/200\n",
      "2/2 [==============================] - 0s 31ms/step - loss: 0.6698 - accuracy: 0.5583 - val_loss: 0.7214 - val_accuracy: 0.4286\n",
      "Epoch 68/200\n",
      "2/2 [==============================] - 0s 29ms/step - loss: 0.6671 - accuracy: 0.6000 - val_loss: 0.7215 - val_accuracy: 0.4286\n",
      "Epoch 69/200\n",
      "2/2 [==============================] - 0s 30ms/step - loss: 0.6747 - accuracy: 0.6000 - val_loss: 0.7219 - val_accuracy: 0.4286\n",
      "Epoch 70/200\n",
      "2/2 [==============================] - 0s 32ms/step - loss: 0.6705 - accuracy: 0.5750 - val_loss: 0.7219 - val_accuracy: 0.4286\n",
      "Epoch 71/200\n",
      "2/2 [==============================] - 0s 36ms/step - loss: 0.6883 - accuracy: 0.5833 - val_loss: 0.7219 - val_accuracy: 0.4286\n",
      "Epoch 72/200\n",
      "2/2 [==============================] - 0s 34ms/step - loss: 0.6725 - accuracy: 0.5583 - val_loss: 0.7220 - val_accuracy: 0.4286\n",
      "Epoch 73/200\n",
      "2/2 [==============================] - 0s 37ms/step - loss: 0.6970 - accuracy: 0.4750 - val_loss: 0.7221 - val_accuracy: 0.4286\n",
      "Epoch 74/200\n",
      "2/2 [==============================] - 0s 34ms/step - loss: 0.6626 - accuracy: 0.6167 - val_loss: 0.7225 - val_accuracy: 0.4286\n",
      "Epoch 75/200\n",
      "2/2 [==============================] - 0s 34ms/step - loss: 0.6753 - accuracy: 0.6083 - val_loss: 0.7226 - val_accuracy: 0.4286\n",
      "Epoch 76/200\n",
      "2/2 [==============================] - 0s 32ms/step - loss: 0.6619 - accuracy: 0.6083 - val_loss: 0.7224 - val_accuracy: 0.4286\n",
      "Epoch 77/200\n",
      "2/2 [==============================] - 0s 33ms/step - loss: 0.7020 - accuracy: 0.5000 - val_loss: 0.7223 - val_accuracy: 0.4286\n",
      "Epoch 78/200\n",
      "2/2 [==============================] - 0s 35ms/step - loss: 0.6785 - accuracy: 0.5167 - val_loss: 0.7224 - val_accuracy: 0.4286\n",
      "Epoch 79/200\n",
      "2/2 [==============================] - 0s 36ms/step - loss: 0.6958 - accuracy: 0.4917 - val_loss: 0.7226 - val_accuracy: 0.4286\n",
      "Epoch 80/200\n",
      "2/2 [==============================] - 0s 34ms/step - loss: 0.6738 - accuracy: 0.5583 - val_loss: 0.7229 - val_accuracy: 0.4286\n",
      "Epoch 81/200\n",
      "2/2 [==============================] - 0s 34ms/step - loss: 0.6899 - accuracy: 0.5333 - val_loss: 0.7226 - val_accuracy: 0.4286\n",
      "Epoch 82/200\n",
      "2/2 [==============================] - 0s 35ms/step - loss: 0.6754 - accuracy: 0.5750 - val_loss: 0.7226 - val_accuracy: 0.4286\n",
      "Epoch 83/200\n",
      "2/2 [==============================] - 0s 38ms/step - loss: 0.6821 - accuracy: 0.5500 - val_loss: 0.7225 - val_accuracy: 0.4286\n",
      "Epoch 84/200\n",
      "2/2 [==============================] - 0s 34ms/step - loss: 0.6918 - accuracy: 0.5167 - val_loss: 0.7227 - val_accuracy: 0.4286\n",
      "Epoch 85/200\n",
      "2/2 [==============================] - 0s 32ms/step - loss: 0.6972 - accuracy: 0.5083 - val_loss: 0.7227 - val_accuracy: 0.4286\n",
      "Epoch 86/200\n",
      "2/2 [==============================] - 0s 31ms/step - loss: 0.6765 - accuracy: 0.5583 - val_loss: 0.7228 - val_accuracy: 0.4286\n",
      "Epoch 87/200\n",
      "2/2 [==============================] - 0s 34ms/step - loss: 0.6834 - accuracy: 0.5500 - val_loss: 0.7226 - val_accuracy: 0.4286\n",
      "Epoch 88/200\n",
      "2/2 [==============================] - 0s 34ms/step - loss: 0.6766 - accuracy: 0.5833 - val_loss: 0.7227 - val_accuracy: 0.4286\n",
      "Epoch 89/200\n",
      "2/2 [==============================] - 0s 35ms/step - loss: 0.6746 - accuracy: 0.5333 - val_loss: 0.7227 - val_accuracy: 0.4286\n",
      "Epoch 90/200\n",
      "2/2 [==============================] - 0s 33ms/step - loss: 0.6796 - accuracy: 0.5333 - val_loss: 0.7230 - val_accuracy: 0.4286\n",
      "Epoch 91/200\n",
      "2/2 [==============================] - 0s 34ms/step - loss: 0.6813 - accuracy: 0.5917 - val_loss: 0.7230 - val_accuracy: 0.4286\n",
      "Epoch 92/200\n",
      "2/2 [==============================] - 0s 33ms/step - loss: 0.6697 - accuracy: 0.5917 - val_loss: 0.7231 - val_accuracy: 0.4286\n",
      "Epoch 93/200\n",
      "2/2 [==============================] - 0s 34ms/step - loss: 0.6887 - accuracy: 0.4917 - val_loss: 0.7229 - val_accuracy: 0.4286\n",
      "Epoch 94/200\n",
      "2/2 [==============================] - 0s 34ms/step - loss: 0.6609 - accuracy: 0.6167 - val_loss: 0.7231 - val_accuracy: 0.4286\n",
      "Epoch 95/200\n",
      "2/2 [==============================] - 0s 33ms/step - loss: 0.7086 - accuracy: 0.5000 - val_loss: 0.7231 - val_accuracy: 0.4286\n",
      "Epoch 96/200\n",
      "2/2 [==============================] - 0s 34ms/step - loss: 0.6636 - accuracy: 0.6583 - val_loss: 0.7229 - val_accuracy: 0.4286\n",
      "Epoch 97/200\n",
      "2/2 [==============================] - 0s 34ms/step - loss: 0.6776 - accuracy: 0.5917 - val_loss: 0.7228 - val_accuracy: 0.4286\n",
      "Epoch 98/200\n",
      "2/2 [==============================] - 0s 31ms/step - loss: 0.6722 - accuracy: 0.5833 - val_loss: 0.7226 - val_accuracy: 0.4286\n",
      "Epoch 99/200\n",
      "2/2 [==============================] - 0s 33ms/step - loss: 0.6798 - accuracy: 0.5417 - val_loss: 0.7226 - val_accuracy: 0.4286\n",
      "Epoch 100/200\n",
      "2/2 [==============================] - 0s 36ms/step - loss: 0.6688 - accuracy: 0.6083 - val_loss: 0.7228 - val_accuracy: 0.4286\n",
      "Epoch 101/200\n",
      "2/2 [==============================] - 0s 34ms/step - loss: 0.6788 - accuracy: 0.5583 - val_loss: 0.7226 - val_accuracy: 0.4286\n",
      "Epoch 102/200\n",
      "2/2 [==============================] - 0s 34ms/step - loss: 0.6847 - accuracy: 0.5250 - val_loss: 0.7224 - val_accuracy: 0.4286\n",
      "Epoch 103/200\n",
      "2/2 [==============================] - 0s 32ms/step - loss: 0.6693 - accuracy: 0.6250 - val_loss: 0.7229 - val_accuracy: 0.4286\n",
      "Epoch 104/200\n",
      "2/2 [==============================] - 0s 34ms/step - loss: 0.6696 - accuracy: 0.5500 - val_loss: 0.7230 - val_accuracy: 0.4286\n",
      "Epoch 105/200\n",
      "2/2 [==============================] - 0s 33ms/step - loss: 0.6774 - accuracy: 0.6000 - val_loss: 0.7229 - val_accuracy: 0.4286\n",
      "Epoch 106/200\n",
      "2/2 [==============================] - 0s 33ms/step - loss: 0.6725 - accuracy: 0.6083 - val_loss: 0.7229 - val_accuracy: 0.4286\n",
      "Epoch 107/200\n",
      "2/2 [==============================] - 0s 38ms/step - loss: 0.6738 - accuracy: 0.5667 - val_loss: 0.7228 - val_accuracy: 0.4286\n",
      "Epoch 108/200\n",
      "2/2 [==============================] - 0s 35ms/step - loss: 0.6655 - accuracy: 0.6000 - val_loss: 0.7228 - val_accuracy: 0.4286\n",
      "Epoch 109/200\n",
      "2/2 [==============================] - 0s 35ms/step - loss: 0.6745 - accuracy: 0.5333 - val_loss: 0.7226 - val_accuracy: 0.4286\n",
      "Epoch 110/200\n",
      "2/2 [==============================] - 0s 34ms/step - loss: 0.6722 - accuracy: 0.5667 - val_loss: 0.7227 - val_accuracy: 0.4286\n",
      "Epoch 111/200\n",
      "2/2 [==============================] - 0s 38ms/step - loss: 0.6816 - accuracy: 0.5167 - val_loss: 0.7229 - val_accuracy: 0.4286\n",
      "Epoch 112/200\n",
      "2/2 [==============================] - 0s 33ms/step - loss: 0.6707 - accuracy: 0.5333 - val_loss: 0.7229 - val_accuracy: 0.4286\n",
      "Epoch 113/200\n",
      "2/2 [==============================] - 0s 34ms/step - loss: 0.6677 - accuracy: 0.5500 - val_loss: 0.7230 - val_accuracy: 0.4286\n",
      "Epoch 114/200\n",
      "2/2 [==============================] - 0s 32ms/step - loss: 0.6886 - accuracy: 0.5917 - val_loss: 0.7228 - val_accuracy: 0.4286\n",
      "Epoch 115/200\n",
      "2/2 [==============================] - 0s 31ms/step - loss: 0.6911 - accuracy: 0.5083 - val_loss: 0.7228 - val_accuracy: 0.4286\n",
      "Epoch 116/200\n",
      "2/2 [==============================] - 0s 33ms/step - loss: 0.6943 - accuracy: 0.5333 - val_loss: 0.7228 - val_accuracy: 0.4286\n",
      "Epoch 117/200\n"
     ]
    },
    {
     "name": "stdout",
     "output_type": "stream",
     "text": [
      "2/2 [==============================] - 0s 36ms/step - loss: 0.6798 - accuracy: 0.5833 - val_loss: 0.7227 - val_accuracy: 0.4286\n",
      "Epoch 118/200\n",
      "2/2 [==============================] - 0s 33ms/step - loss: 0.6939 - accuracy: 0.5000 - val_loss: 0.7228 - val_accuracy: 0.4286\n",
      "Epoch 119/200\n",
      "2/2 [==============================] - 0s 35ms/step - loss: 0.6722 - accuracy: 0.5833 - val_loss: 0.7226 - val_accuracy: 0.4286\n",
      "Epoch 120/200\n",
      "2/2 [==============================] - 0s 34ms/step - loss: 0.7093 - accuracy: 0.5083 - val_loss: 0.7225 - val_accuracy: 0.4286\n",
      "Epoch 121/200\n",
      "2/2 [==============================] - 0s 33ms/step - loss: 0.6676 - accuracy: 0.5833 - val_loss: 0.7227 - val_accuracy: 0.4286\n",
      "Epoch 122/200\n",
      "2/2 [==============================] - 0s 34ms/step - loss: 0.6894 - accuracy: 0.5333 - val_loss: 0.7227 - val_accuracy: 0.4286\n",
      "Epoch 123/200\n",
      "2/2 [==============================] - 0s 35ms/step - loss: 0.6835 - accuracy: 0.5167 - val_loss: 0.7229 - val_accuracy: 0.4286\n",
      "Epoch 124/200\n",
      "2/2 [==============================] - 0s 34ms/step - loss: 0.6911 - accuracy: 0.4667 - val_loss: 0.7226 - val_accuracy: 0.4286\n",
      "Epoch 125/200\n",
      "2/2 [==============================] - 0s 38ms/step - loss: 0.6641 - accuracy: 0.6000 - val_loss: 0.7227 - val_accuracy: 0.4286\n",
      "Epoch 126/200\n",
      "2/2 [==============================] - 0s 35ms/step - loss: 0.6685 - accuracy: 0.5583 - val_loss: 0.7227 - val_accuracy: 0.4286\n",
      "Epoch 127/200\n",
      "2/2 [==============================] - 0s 35ms/step - loss: 0.6555 - accuracy: 0.6000 - val_loss: 0.7229 - val_accuracy: 0.4286\n",
      "Epoch 128/200\n",
      "2/2 [==============================] - 0s 33ms/step - loss: 0.6847 - accuracy: 0.5750 - val_loss: 0.7230 - val_accuracy: 0.4286\n",
      "Epoch 129/200\n",
      "2/2 [==============================] - 0s 37ms/step - loss: 0.6800 - accuracy: 0.5417 - val_loss: 0.7230 - val_accuracy: 0.4286\n",
      "Epoch 130/200\n",
      "2/2 [==============================] - 0s 37ms/step - loss: 0.6712 - accuracy: 0.5667 - val_loss: 0.7230 - val_accuracy: 0.4286\n",
      "Epoch 131/200\n",
      "2/2 [==============================] - 0s 39ms/step - loss: 0.6682 - accuracy: 0.6500 - val_loss: 0.7233 - val_accuracy: 0.4286\n",
      "Epoch 132/200\n",
      "2/2 [==============================] - 0s 36ms/step - loss: 0.6928 - accuracy: 0.5000 - val_loss: 0.7232 - val_accuracy: 0.4286\n",
      "Epoch 133/200\n",
      "2/2 [==============================] - 0s 39ms/step - loss: 0.6571 - accuracy: 0.6417 - val_loss: 0.7225 - val_accuracy: 0.4286\n",
      "Epoch 134/200\n",
      "2/2 [==============================] - 0s 35ms/step - loss: 0.6541 - accuracy: 0.5833 - val_loss: 0.7223 - val_accuracy: 0.4286\n",
      "Epoch 135/200\n",
      "2/2 [==============================] - 0s 34ms/step - loss: 0.6819 - accuracy: 0.5333 - val_loss: 0.7223 - val_accuracy: 0.4286\n",
      "Epoch 136/200\n",
      "2/2 [==============================] - 0s 39ms/step - loss: 0.6465 - accuracy: 0.6333 - val_loss: 0.7226 - val_accuracy: 0.4286\n",
      "Epoch 137/200\n",
      "2/2 [==============================] - 0s 34ms/step - loss: 0.6917 - accuracy: 0.5250 - val_loss: 0.7223 - val_accuracy: 0.4286\n",
      "Epoch 138/200\n",
      "2/2 [==============================] - 0s 35ms/step - loss: 0.6845 - accuracy: 0.5167 - val_loss: 0.7224 - val_accuracy: 0.4286\n",
      "Epoch 139/200\n",
      "2/2 [==============================] - 0s 32ms/step - loss: 0.6511 - accuracy: 0.6167 - val_loss: 0.7225 - val_accuracy: 0.4286\n",
      "Epoch 140/200\n",
      "2/2 [==============================] - 0s 33ms/step - loss: 0.6773 - accuracy: 0.5750 - val_loss: 0.7223 - val_accuracy: 0.4286\n",
      "Epoch 141/200\n",
      "2/2 [==============================] - 0s 32ms/step - loss: 0.6604 - accuracy: 0.6167 - val_loss: 0.7224 - val_accuracy: 0.4286\n",
      "Epoch 142/200\n",
      "2/2 [==============================] - 0s 31ms/step - loss: 0.6668 - accuracy: 0.6333 - val_loss: 0.7226 - val_accuracy: 0.4286\n",
      "Epoch 143/200\n",
      "2/2 [==============================] - 0s 30ms/step - loss: 0.6909 - accuracy: 0.5333 - val_loss: 0.7226 - val_accuracy: 0.4286\n",
      "Epoch 144/200\n",
      "2/2 [==============================] - 0s 30ms/step - loss: 0.6664 - accuracy: 0.5917 - val_loss: 0.7227 - val_accuracy: 0.4286\n",
      "Epoch 145/200\n",
      "2/2 [==============================] - 0s 31ms/step - loss: 0.6770 - accuracy: 0.6000 - val_loss: 0.7226 - val_accuracy: 0.4286\n",
      "Epoch 146/200\n",
      "2/2 [==============================] - 0s 29ms/step - loss: 0.6781 - accuracy: 0.5500 - val_loss: 0.7225 - val_accuracy: 0.4286\n",
      "Epoch 147/200\n",
      "2/2 [==============================] - 0s 30ms/step - loss: 0.6509 - accuracy: 0.6000 - val_loss: 0.7228 - val_accuracy: 0.4286\n",
      "Epoch 148/200\n",
      "2/2 [==============================] - 0s 29ms/step - loss: 0.6867 - accuracy: 0.5750 - val_loss: 0.7224 - val_accuracy: 0.4286\n",
      "Epoch 149/200\n",
      "2/2 [==============================] - 0s 28ms/step - loss: 0.6610 - accuracy: 0.6083 - val_loss: 0.7224 - val_accuracy: 0.4286\n",
      "Epoch 150/200\n",
      "2/2 [==============================] - 0s 32ms/step - loss: 0.6747 - accuracy: 0.5583 - val_loss: 0.7225 - val_accuracy: 0.4286\n",
      "Epoch 151/200\n",
      "2/2 [==============================] - 0s 34ms/step - loss: 0.6871 - accuracy: 0.5500 - val_loss: 0.7224 - val_accuracy: 0.4286\n",
      "Epoch 152/200\n",
      "2/2 [==============================] - 0s 33ms/step - loss: 0.6641 - accuracy: 0.6333 - val_loss: 0.7224 - val_accuracy: 0.4286\n",
      "Epoch 153/200\n",
      "2/2 [==============================] - 0s 30ms/step - loss: 0.6758 - accuracy: 0.5750 - val_loss: 0.7221 - val_accuracy: 0.4286\n",
      "Epoch 154/200\n",
      "2/2 [==============================] - 0s 31ms/step - loss: 0.6588 - accuracy: 0.6500 - val_loss: 0.7224 - val_accuracy: 0.4286\n",
      "Epoch 155/200\n",
      "2/2 [==============================] - 0s 30ms/step - loss: 0.6727 - accuracy: 0.5917 - val_loss: 0.7227 - val_accuracy: 0.4286\n",
      "Epoch 156/200\n",
      "2/2 [==============================] - 0s 31ms/step - loss: 0.6789 - accuracy: 0.5500 - val_loss: 0.7227 - val_accuracy: 0.4286\n",
      "Epoch 157/200\n",
      "2/2 [==============================] - 0s 32ms/step - loss: 0.6804 - accuracy: 0.5583 - val_loss: 0.7229 - val_accuracy: 0.4286\n",
      "Epoch 158/200\n",
      "2/2 [==============================] - 0s 32ms/step - loss: 0.6604 - accuracy: 0.5500 - val_loss: 0.7231 - val_accuracy: 0.4286\n",
      "Epoch 159/200\n",
      "2/2 [==============================] - 0s 34ms/step - loss: 0.6701 - accuracy: 0.5917 - val_loss: 0.7231 - val_accuracy: 0.4286\n",
      "Epoch 160/200\n",
      "2/2 [==============================] - 0s 33ms/step - loss: 0.6505 - accuracy: 0.6250 - val_loss: 0.7231 - val_accuracy: 0.4286\n",
      "Epoch 161/200\n",
      "2/2 [==============================] - 0s 33ms/step - loss: 0.6655 - accuracy: 0.6167 - val_loss: 0.7232 - val_accuracy: 0.4286\n",
      "Epoch 162/200\n",
      "2/2 [==============================] - 0s 33ms/step - loss: 0.6687 - accuracy: 0.6500 - val_loss: 0.7227 - val_accuracy: 0.4286\n",
      "Epoch 163/200\n",
      "2/2 [==============================] - 0s 34ms/step - loss: 0.6811 - accuracy: 0.5667 - val_loss: 0.7228 - val_accuracy: 0.4286\n",
      "Epoch 164/200\n",
      "2/2 [==============================] - 0s 31ms/step - loss: 0.6825 - accuracy: 0.5250 - val_loss: 0.7228 - val_accuracy: 0.4286\n",
      "Epoch 165/200\n",
      "2/2 [==============================] - 0s 31ms/step - loss: 0.6807 - accuracy: 0.6167 - val_loss: 0.7224 - val_accuracy: 0.4286\n",
      "Epoch 166/200\n",
      "2/2 [==============================] - 0s 35ms/step - loss: 0.6830 - accuracy: 0.6000 - val_loss: 0.7224 - val_accuracy: 0.5000\n",
      "Epoch 167/200\n",
      "2/2 [==============================] - 0s 32ms/step - loss: 0.6733 - accuracy: 0.5833 - val_loss: 0.7225 - val_accuracy: 0.5000\n",
      "Epoch 168/200\n",
      "2/2 [==============================] - 0s 35ms/step - loss: 0.6588 - accuracy: 0.6333 - val_loss: 0.7225 - val_accuracy: 0.5000\n",
      "Epoch 169/200\n",
      "2/2 [==============================] - 0s 32ms/step - loss: 0.6761 - accuracy: 0.6000 - val_loss: 0.7226 - val_accuracy: 0.5000\n",
      "Epoch 170/200\n",
      "2/2 [==============================] - 0s 37ms/step - loss: 0.6611 - accuracy: 0.6333 - val_loss: 0.7225 - val_accuracy: 0.5000\n",
      "Epoch 171/200\n",
      "2/2 [==============================] - 0s 32ms/step - loss: 0.6807 - accuracy: 0.5917 - val_loss: 0.7225 - val_accuracy: 0.4286\n",
      "Epoch 172/200\n",
      "2/2 [==============================] - 0s 32ms/step - loss: 0.6671 - accuracy: 0.6250 - val_loss: 0.7226 - val_accuracy: 0.4286\n",
      "Epoch 173/200\n",
      "2/2 [==============================] - 0s 30ms/step - loss: 0.7016 - accuracy: 0.5250 - val_loss: 0.7223 - val_accuracy: 0.4286\n",
      "Epoch 174/200\n",
      "2/2 [==============================] - 0s 30ms/step - loss: 0.6754 - accuracy: 0.5667 - val_loss: 0.7224 - val_accuracy: 0.4286\n"
     ]
    },
    {
     "name": "stdout",
     "output_type": "stream",
     "text": [
      "Epoch 175/200\n",
      "2/2 [==============================] - 0s 30ms/step - loss: 0.6637 - accuracy: 0.6417 - val_loss: 0.7226 - val_accuracy: 0.4286\n",
      "Epoch 176/200\n",
      "2/2 [==============================] - 0s 28ms/step - loss: 0.6891 - accuracy: 0.5333 - val_loss: 0.7225 - val_accuracy: 0.4286\n",
      "Epoch 177/200\n",
      "2/2 [==============================] - 0s 31ms/step - loss: 0.6902 - accuracy: 0.5083 - val_loss: 0.7225 - val_accuracy: 0.4286\n",
      "Epoch 178/200\n",
      "2/2 [==============================] - 0s 31ms/step - loss: 0.6714 - accuracy: 0.5583 - val_loss: 0.7224 - val_accuracy: 0.4286\n",
      "Epoch 179/200\n",
      "2/2 [==============================] - 0s 31ms/step - loss: 0.6532 - accuracy: 0.6500 - val_loss: 0.7222 - val_accuracy: 0.4286\n",
      "Epoch 180/200\n",
      "2/2 [==============================] - 0s 30ms/step - loss: 0.6680 - accuracy: 0.5667 - val_loss: 0.7223 - val_accuracy: 0.4286\n",
      "Epoch 181/200\n",
      "2/2 [==============================] - 0s 31ms/step - loss: 0.6584 - accuracy: 0.6000 - val_loss: 0.7225 - val_accuracy: 0.4286\n",
      "Epoch 182/200\n",
      "2/2 [==============================] - 0s 28ms/step - loss: 0.6887 - accuracy: 0.5750 - val_loss: 0.7222 - val_accuracy: 0.4286\n",
      "Epoch 183/200\n",
      "2/2 [==============================] - 0s 32ms/step - loss: 0.6889 - accuracy: 0.4917 - val_loss: 0.7219 - val_accuracy: 0.4286\n",
      "Epoch 184/200\n",
      "2/2 [==============================] - 0s 31ms/step - loss: 0.6766 - accuracy: 0.5917 - val_loss: 0.7219 - val_accuracy: 0.4286\n",
      "Epoch 185/200\n",
      "2/2 [==============================] - 0s 33ms/step - loss: 0.6626 - accuracy: 0.6250 - val_loss: 0.7221 - val_accuracy: 0.4286\n",
      "Epoch 186/200\n",
      "2/2 [==============================] - 0s 32ms/step - loss: 0.6765 - accuracy: 0.5667 - val_loss: 0.7222 - val_accuracy: 0.4286\n",
      "Epoch 187/200\n",
      "2/2 [==============================] - 0s 30ms/step - loss: 0.6704 - accuracy: 0.5333 - val_loss: 0.7225 - val_accuracy: 0.4286\n",
      "Epoch 188/200\n",
      "2/2 [==============================] - 0s 30ms/step - loss: 0.6613 - accuracy: 0.5667 - val_loss: 0.7228 - val_accuracy: 0.4286\n",
      "Epoch 189/200\n",
      "2/2 [==============================] - 0s 30ms/step - loss: 0.6597 - accuracy: 0.5417 - val_loss: 0.7228 - val_accuracy: 0.4286\n",
      "Epoch 190/200\n",
      "2/2 [==============================] - 0s 31ms/step - loss: 0.6827 - accuracy: 0.5583 - val_loss: 0.7229 - val_accuracy: 0.4286\n",
      "Epoch 191/200\n",
      "2/2 [==============================] - 0s 30ms/step - loss: 0.6661 - accuracy: 0.6000 - val_loss: 0.7228 - val_accuracy: 0.4286\n",
      "Epoch 192/200\n",
      "2/2 [==============================] - 0s 30ms/step - loss: 0.6461 - accuracy: 0.6583 - val_loss: 0.7232 - val_accuracy: 0.4286\n",
      "Epoch 193/200\n",
      "2/2 [==============================] - 0s 28ms/step - loss: 0.6719 - accuracy: 0.6000 - val_loss: 0.7234 - val_accuracy: 0.4286\n",
      "Epoch 194/200\n",
      "2/2 [==============================] - 0s 30ms/step - loss: 0.6597 - accuracy: 0.5583 - val_loss: 0.7237 - val_accuracy: 0.4286\n",
      "Epoch 195/200\n",
      "2/2 [==============================] - 0s 30ms/step - loss: 0.6666 - accuracy: 0.6167 - val_loss: 0.7237 - val_accuracy: 0.4286\n",
      "Epoch 196/200\n",
      "2/2 [==============================] - 0s 31ms/step - loss: 0.6823 - accuracy: 0.6167 - val_loss: 0.7227 - val_accuracy: 0.4286\n",
      "Epoch 197/200\n",
      "2/2 [==============================] - 0s 35ms/step - loss: 0.6656 - accuracy: 0.6000 - val_loss: 0.7231 - val_accuracy: 0.4286\n",
      "Epoch 198/200\n",
      "2/2 [==============================] - 0s 28ms/step - loss: 0.6566 - accuracy: 0.6667 - val_loss: 0.7230 - val_accuracy: 0.4286\n",
      "Epoch 199/200\n",
      "2/2 [==============================] - 0s 29ms/step - loss: 0.6545 - accuracy: 0.6333 - val_loss: 0.7234 - val_accuracy: 0.4286\n",
      "Epoch 200/200\n",
      "2/2 [==============================] - 0s 28ms/step - loss: 0.6695 - accuracy: 0.5833 - val_loss: 0.7235 - val_accuracy: 0.4286\n"
     ]
    }
   ],
   "source": [
    "history = model.fit(X_train,\n",
    "                    y_test,\n",
    "                    epochs = 200,\n",
    "                    batch_size = 64,\n",
    "                    validation_split=0.1)"
   ]
  },
  {
   "cell_type": "code",
   "execution_count": 19,
   "id": "04aab30b",
   "metadata": {},
   "outputs": [
    {
     "name": "stdout",
     "output_type": "stream",
     "text": [
      "1/1 [==============================] - 0s 28ms/step - loss: 0.6629 - accuracy: 0.7037\n"
     ]
    },
    {
     "data": {
      "text/plain": [
       "[0.662899374961853, 0.7037037014961243]"
      ]
     },
     "execution_count": 19,
     "metadata": {},
     "output_type": "execute_result"
    }
   ],
   "source": [
    "model.evaluate(X_test, y_test)"
   ]
  },
  {
   "cell_type": "code",
   "execution_count": 20,
   "id": "8c504f6e",
   "metadata": {},
   "outputs": [
    {
     "name": "stdout",
     "output_type": "stream",
     "text": [
      "1/1 [==============================] - 0s 87ms/step\n"
     ]
    }
   ],
   "source": [
    "y_pred = model.predict(X_test)"
   ]
  },
  {
   "cell_type": "code",
   "execution_count": 28,
   "id": "f7213e61",
   "metadata": {},
   "outputs": [
    {
     "data": {
      "text/plain": [
       "array([1., 1., 0., 1., 1., 1., 1., 0., 1., 1., 1., 0., 1., 1., 1., 0., 0.,\n",
       "       0., 1., 0., 0., 1., 1., 1., 1., 0., 0.])"
      ]
     },
     "execution_count": 28,
     "metadata": {},
     "output_type": "execute_result"
    }
   ],
   "source": [
    "y_test"
   ]
  },
  {
   "cell_type": "code",
   "execution_count": 29,
   "id": "c89b044e",
   "metadata": {},
   "outputs": [],
   "source": [
    "predicted = []\n",
    "for i in y_pred:\n",
    "    if i >=0.5:\n",
    "        predicted.append(1.)\n",
    "    else:\n",
    "        predicted.append(0.)"
   ]
  },
  {
   "cell_type": "code",
   "execution_count": 31,
   "id": "5efa8824",
   "metadata": {},
   "outputs": [
    {
     "data": {
      "text/plain": [
       "array([1., 1., 0., 1., 1., 1., 1., 1., 1., 1., 1., 1., 1., 1., 1., 1., 1.,\n",
       "       0., 1., 1., 1., 1., 1., 1., 1., 1., 1.])"
      ]
     },
     "execution_count": 31,
     "metadata": {},
     "output_type": "execute_result"
    }
   ],
   "source": []
  },
  {
   "cell_type": "code",
   "execution_count": 32,
   "id": "7281a4fb",
   "metadata": {},
   "outputs": [
    {
     "data": {
      "text/plain": [
       "array([[ 2,  8],\n",
       "       [ 0, 17]], dtype=int64)"
      ]
     },
     "execution_count": 32,
     "metadata": {},
     "output_type": "execute_result"
    }
   ],
   "source": [
    "cm = confusion_matrix(y_test, np.array(predicted))\n",
    "cm"
   ]
  },
  {
   "cell_type": "code",
   "execution_count": null,
   "id": "7ab40ca1",
   "metadata": {},
   "outputs": [],
   "source": []
  }
 ],
 "metadata": {
  "kernelspec": {
   "display_name": "Python 3 (ipykernel)",
   "language": "python",
   "name": "python3"
  },
  "language_info": {
   "codemirror_mode": {
    "name": "ipython",
    "version": 3
   },
   "file_extension": ".py",
   "mimetype": "text/x-python",
   "name": "python",
   "nbconvert_exporter": "python",
   "pygments_lexer": "ipython3",
   "version": "3.10.8"
  }
 },
 "nbformat": 4,
 "nbformat_minor": 5
}
